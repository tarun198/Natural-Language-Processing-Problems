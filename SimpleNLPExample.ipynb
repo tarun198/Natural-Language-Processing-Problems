{
 "cells": [
  {
   "cell_type": "code",
   "execution_count": null,
   "metadata": {
    "collapsed": true
   },
   "outputs": [],
   "source": [
    "# Remove @tweets, numbers, hyperlinks that do not start with letters\n",
    "sample = re.sub(\"(@[A-Za-z0-9]+)|([^0-9A-Za-z \\t])|(\\w+:\\/\\/\\S+)|([0-9])\",\" \",sample)\n",
    "print(sample)\n",
    "\n",
    "# tokenize into words\n",
    "import nltk\n",
    "tokens = [word for word in nltk.word_tokenize('hi there busy how u doing. I am 2 busy. Busy is waiting. Why wait for done?')]\n",
    "print(tokens)\n",
    "\n",
    "# only keep tokens that start with a letter (using regular expressions)\n",
    "import re\n",
    "clean_tokens = [token for token in tokens if re.search(r'^[a-zA-Z]+', token)]\n",
    "print('clean_tokens:\\n',clean_tokens)\n",
    "\n",
    "# count the tokens\n",
    "from collections import Counter\n",
    "c = Counter(clean_tokens)\n",
    "c.most_common(10)\n",
    "\n",
    "# stem the tokens\n",
    "from nltk.stem.snowball import SnowballStemmer\n",
    "stemmer = SnowballStemmer('english')\n",
    "stemmed_tokens = [stemmer.stem(t) for t in clean_tokens]\n",
    "print('stemmed_tokens:\\n',stemmed_tokens)\n",
    "\n",
    "# count the stemmed tokens\n",
    "c = Counter(stemmed_tokens)\n",
    "c.most_common(25)\n",
    "\n",
    "#Lemmatizing\n",
    "lemmatizer = nltk.WordNetLemmatizer()\n",
    "lem_tokens = [lemmatizer.lemmatize(t) for t in stemmed_tokens]\n",
    "print('lemmatizer : \\n',lem_tokens)"
   ]
  },
  {
   "cell_type": "code",
   "execution_count": null,
   "metadata": {
    "collapsed": true
   },
   "outputs": [],
   "source": [
    "#Remove stopwords\n",
    "stopwords = nltk.corpus.stopwords.words('english')\n",
    "stopwords\n",
    "\n",
    "#Remove a particular word from a stopword list for example removing no and not\n",
    "stopwords = nltk.corpus.stopwords.words('english')\n",
    "stopwords.remove('no')\n"
    "stopwords.remove('not')\n",
    "\n",
    
    "# stem the stopwords\n",
    "stemmed_stops = [stemmer.stem(t) for t in stopwords]\n",
    "stemmed_stops\n",
    "\n",
    "# remove stopwords from stemmed/lemmatized tokens\n",
    "lem_tokens_no_stop = [stemmer.stem(t) for t in lem_tokens if t not in stemmed_stops]\n",
    "lem_tokens_no_stop\n",
    "\n",
    
    "# remove words whose length is <3\n",
    "clean_lem_tok = [e for e in lem_tokens_no_stop if len(e) >= 3]\n",
    "clean_lem_tok"
   ]
  },
  {
   "cell_type": "code",
   "execution_count": 3,
   "metadata": {
    "collapsed": false
   },
   "outputs": [
    {
     "name": "stdout",
     "output_type": "stream",
     "text": [
      "[[1 0 1 1 0]\n",
      " [1 1 0 1 0]\n",
      " [1 0 2 0 1]]\n",
      "[[ 0.57735027  0.          0.57735027  0.57735027  0.        ]\n",
      " [ 0.57735027  0.57735027  0.          0.57735027  0.        ]\n",
      " [ 0.40824829  0.          0.81649658  0.          0.40824829]]\n"
     ]
    }
   ],
   "source": [
    "#Term Frequency - Inverse Document Frequency (TF-IDF)\n",
    "\n",
    "sample = ['Bob likes sports', 'Bob hates sports', 'Bob likes likes trees']\n",
    "\n",
    "from sklearn.feature_extraction.text import CountVectorizer\n",
    "vect = CountVectorizer()\n",
    "t1=vect.fit_transform(sample).toarray()\n",
    "print(t1)\n",
    "#print(vect.get_feature_names())\n",
    "\n",
    "from sklearn.feature_extraction.text import TfidfVectorizer\n",
    "tfidf = TfidfVectorizer()\n",
    "t2=tfidf.fit_transform(sample).toarray()\n",
    "print(t2)\n",
    "#print(tfidf.get_feature_names())"
   ]
  },
  {
   "cell_type": "code",
   "execution_count": null,
   "metadata": {
    "collapsed": true
   },
   "outputs": [],
   "source": []
  }
 ],
 "metadata": {
  "kernelspec": {
   "display_name": "Python 3",
   "language": "python",
   "name": "python3"
  },
  "language_info": {
   "codemirror_mode": {
    "name": "ipython",
    "version": 3
   },
   "file_extension": ".py",
   "mimetype": "text/x-python",
   "name": "python",
   "nbconvert_exporter": "python",
   "pygments_lexer": "ipython3",
   "version": "3.5.2"
  }
 },
 "nbformat": 4,
 "nbformat_minor": 1
}
